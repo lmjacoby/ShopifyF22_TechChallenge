{
 "cells": [
  {
   "cell_type": "code",
   "execution_count": 1,
   "metadata": {},
   "outputs": [],
   "source": [
    "import pandas as pd\n",
    "import numpy as np\n",
    "\n",
    "from scipy import stats\n",
    "import matplotlib.pyplot as plt"
   ]
  },
  {
   "cell_type": "markdown",
   "metadata": {},
   "source": [
    "# Question 1:\n",
    "\n",
    "On Shopify, we have exactly 100 sneaker shops, and each of these shops sells only one model of shoe. We want to do some analysis of the average order value (AOV). When we look at orders data over a 30 day window, we naively calculate an AOV of $3145.13. Given that we know these shops are selling sneakers, a relatively affordable item, something seems wrong with our analysis."
   ]
  },
  {
   "cell_type": "markdown",
   "metadata": {},
   "source": [
    "- Think about what could be going wrong with our calculation. Think about a better way to evaluate this data. \n",
    "- What metric would you report for this dataset?\n",
    "- What is its value"
   ]
  },
  {
   "cell_type": "markdown",
   "metadata": {},
   "source": [
    "### Importing Data"
   ]
  },
  {
   "cell_type": "code",
   "execution_count": 2,
   "metadata": {},
   "outputs": [],
   "source": [
    "df_aov = \\\n",
    "    pd.read_csv('./2019 Winter Data Science Intern Challenge Data Set - Sheet1.csv',\n",
    "               parse_dates=['created_at'])"
   ]
  },
  {
   "cell_type": "markdown",
   "metadata": {},
   "source": [
    "### Exploring the dataset\n",
    "Printing the first 5 rows helps me get a glimpse at the dataset I am working with, to evaluate if anything seems wrong from the get-go. Reasonable values are in the columns specified like integers in columns that should have numbers (`order_id`, `order_amount`, etc.), string values that make sense for `payment_method`."
   ]
  },
  {
   "cell_type": "code",
   "execution_count": 3,
   "metadata": {},
   "outputs": [
    {
     "data": {
      "text/html": [
       "<div>\n",
       "<style scoped>\n",
       "    .dataframe tbody tr th:only-of-type {\n",
       "        vertical-align: middle;\n",
       "    }\n",
       "\n",
       "    .dataframe tbody tr th {\n",
       "        vertical-align: top;\n",
       "    }\n",
       "\n",
       "    .dataframe thead th {\n",
       "        text-align: right;\n",
       "    }\n",
       "</style>\n",
       "<table border=\"1\" class=\"dataframe\">\n",
       "  <thead>\n",
       "    <tr style=\"text-align: right;\">\n",
       "      <th></th>\n",
       "      <th>order_id</th>\n",
       "      <th>shop_id</th>\n",
       "      <th>user_id</th>\n",
       "      <th>order_amount</th>\n",
       "      <th>total_items</th>\n",
       "      <th>payment_method</th>\n",
       "      <th>created_at</th>\n",
       "    </tr>\n",
       "  </thead>\n",
       "  <tbody>\n",
       "    <tr>\n",
       "      <th>0</th>\n",
       "      <td>1</td>\n",
       "      <td>53</td>\n",
       "      <td>746</td>\n",
       "      <td>224</td>\n",
       "      <td>2</td>\n",
       "      <td>cash</td>\n",
       "      <td>2017-03-13 12:36:56</td>\n",
       "    </tr>\n",
       "    <tr>\n",
       "      <th>1</th>\n",
       "      <td>2</td>\n",
       "      <td>92</td>\n",
       "      <td>925</td>\n",
       "      <td>90</td>\n",
       "      <td>1</td>\n",
       "      <td>cash</td>\n",
       "      <td>2017-03-03 17:38:52</td>\n",
       "    </tr>\n",
       "    <tr>\n",
       "      <th>2</th>\n",
       "      <td>3</td>\n",
       "      <td>44</td>\n",
       "      <td>861</td>\n",
       "      <td>144</td>\n",
       "      <td>1</td>\n",
       "      <td>cash</td>\n",
       "      <td>2017-03-14 04:23:56</td>\n",
       "    </tr>\n",
       "    <tr>\n",
       "      <th>3</th>\n",
       "      <td>4</td>\n",
       "      <td>18</td>\n",
       "      <td>935</td>\n",
       "      <td>156</td>\n",
       "      <td>1</td>\n",
       "      <td>credit_card</td>\n",
       "      <td>2017-03-26 12:43:37</td>\n",
       "    </tr>\n",
       "    <tr>\n",
       "      <th>4</th>\n",
       "      <td>5</td>\n",
       "      <td>18</td>\n",
       "      <td>883</td>\n",
       "      <td>156</td>\n",
       "      <td>1</td>\n",
       "      <td>credit_card</td>\n",
       "      <td>2017-03-01 04:35:11</td>\n",
       "    </tr>\n",
       "  </tbody>\n",
       "</table>\n",
       "</div>"
      ],
      "text/plain": [
       "   order_id  shop_id  user_id  order_amount  total_items payment_method  \\\n",
       "0         1       53      746           224            2           cash   \n",
       "1         2       92      925            90            1           cash   \n",
       "2         3       44      861           144            1           cash   \n",
       "3         4       18      935           156            1    credit_card   \n",
       "4         5       18      883           156            1    credit_card   \n",
       "\n",
       "           created_at  \n",
       "0 2017-03-13 12:36:56  \n",
       "1 2017-03-03 17:38:52  \n",
       "2 2017-03-14 04:23:56  \n",
       "3 2017-03-26 12:43:37  \n",
       "4 2017-03-01 04:35:11  "
      ]
     },
     "execution_count": 3,
     "metadata": {},
     "output_type": "execute_result"
    }
   ],
   "source": [
    "df_aov.head()"
   ]
  },
  {
   "cell_type": "markdown",
   "metadata": {},
   "source": [
    "After viewing the data I think a useful column value here would be price per item. Since each shop only sells one model, this `price_per_item` is consistent within every shop."
   ]
  },
  {
   "cell_type": "code",
   "execution_count": 4,
   "metadata": {},
   "outputs": [
    {
     "data": {
      "text/html": [
       "<div>\n",
       "<style scoped>\n",
       "    .dataframe tbody tr th:only-of-type {\n",
       "        vertical-align: middle;\n",
       "    }\n",
       "\n",
       "    .dataframe tbody tr th {\n",
       "        vertical-align: top;\n",
       "    }\n",
       "\n",
       "    .dataframe thead th {\n",
       "        text-align: right;\n",
       "    }\n",
       "</style>\n",
       "<table border=\"1\" class=\"dataframe\">\n",
       "  <thead>\n",
       "    <tr style=\"text-align: right;\">\n",
       "      <th></th>\n",
       "      <th>order_id</th>\n",
       "      <th>shop_id</th>\n",
       "      <th>user_id</th>\n",
       "      <th>order_amount</th>\n",
       "      <th>total_items</th>\n",
       "      <th>price_per_item</th>\n",
       "      <th>payment_method</th>\n",
       "      <th>created_at</th>\n",
       "    </tr>\n",
       "  </thead>\n",
       "  <tbody>\n",
       "    <tr>\n",
       "      <th>0</th>\n",
       "      <td>1</td>\n",
       "      <td>53</td>\n",
       "      <td>746</td>\n",
       "      <td>224</td>\n",
       "      <td>2</td>\n",
       "      <td>112.0</td>\n",
       "      <td>cash</td>\n",
       "      <td>2017-03-13 12:36:56</td>\n",
       "    </tr>\n",
       "    <tr>\n",
       "      <th>1</th>\n",
       "      <td>2</td>\n",
       "      <td>92</td>\n",
       "      <td>925</td>\n",
       "      <td>90</td>\n",
       "      <td>1</td>\n",
       "      <td>90.0</td>\n",
       "      <td>cash</td>\n",
       "      <td>2017-03-03 17:38:52</td>\n",
       "    </tr>\n",
       "    <tr>\n",
       "      <th>2</th>\n",
       "      <td>3</td>\n",
       "      <td>44</td>\n",
       "      <td>861</td>\n",
       "      <td>144</td>\n",
       "      <td>1</td>\n",
       "      <td>144.0</td>\n",
       "      <td>cash</td>\n",
       "      <td>2017-03-14 04:23:56</td>\n",
       "    </tr>\n",
       "    <tr>\n",
       "      <th>3</th>\n",
       "      <td>4</td>\n",
       "      <td>18</td>\n",
       "      <td>935</td>\n",
       "      <td>156</td>\n",
       "      <td>1</td>\n",
       "      <td>156.0</td>\n",
       "      <td>credit_card</td>\n",
       "      <td>2017-03-26 12:43:37</td>\n",
       "    </tr>\n",
       "    <tr>\n",
       "      <th>4</th>\n",
       "      <td>5</td>\n",
       "      <td>18</td>\n",
       "      <td>883</td>\n",
       "      <td>156</td>\n",
       "      <td>1</td>\n",
       "      <td>156.0</td>\n",
       "      <td>credit_card</td>\n",
       "      <td>2017-03-01 04:35:11</td>\n",
       "    </tr>\n",
       "  </tbody>\n",
       "</table>\n",
       "</div>"
      ],
      "text/plain": [
       "   order_id  shop_id  user_id  order_amount  total_items  price_per_item  \\\n",
       "0         1       53      746           224            2           112.0   \n",
       "1         2       92      925            90            1            90.0   \n",
       "2         3       44      861           144            1           144.0   \n",
       "3         4       18      935           156            1           156.0   \n",
       "4         5       18      883           156            1           156.0   \n",
       "\n",
       "  payment_method          created_at  \n",
       "0           cash 2017-03-13 12:36:56  \n",
       "1           cash 2017-03-03 17:38:52  \n",
       "2           cash 2017-03-14 04:23:56  \n",
       "3    credit_card 2017-03-26 12:43:37  \n",
       "4    credit_card 2017-03-01 04:35:11  "
      ]
     },
     "execution_count": 4,
     "metadata": {},
     "output_type": "execute_result"
    }
   ],
   "source": [
    "# adding a new column to df_aov that is the calculated price per item.\n",
    "df_aov.insert(5, 'price_per_item', df_aov['order_amount']/df_aov['total_items'])\n",
    "df_aov.head()"
   ]
  },
  {
   "cell_type": "markdown",
   "metadata": {},
   "source": [
    "Checking datatypes of each column. All the values that should be numbers are encoded as integers or floats, and the date is in datetime format."
   ]
  },
  {
   "cell_type": "code",
   "execution_count": 5,
   "metadata": {},
   "outputs": [
    {
     "data": {
      "text/plain": [
       "order_id                   int64\n",
       "shop_id                    int64\n",
       "user_id                    int64\n",
       "order_amount               int64\n",
       "total_items                int64\n",
       "price_per_item           float64\n",
       "payment_method            object\n",
       "created_at        datetime64[ns]\n",
       "dtype: object"
      ]
     },
     "execution_count": 5,
     "metadata": {},
     "output_type": "execute_result"
    }
   ],
   "source": [
    "df_aov.dtypes"
   ]
  },
  {
   "cell_type": "markdown",
   "metadata": {},
   "source": [
    "Understanding the size (number of entries, columns) of the dataframe"
   ]
  },
  {
   "cell_type": "code",
   "execution_count": 6,
   "metadata": {},
   "outputs": [
    {
     "data": {
      "text/plain": [
       "(5000, 8)"
      ]
     },
     "execution_count": 6,
     "metadata": {},
     "output_type": "execute_result"
    }
   ],
   "source": [
    "df_aov.shape"
   ]
  },
  {
   "cell_type": "markdown",
   "metadata": {},
   "source": [
    "Checking for empty values in the dataframe, there are none"
   ]
  },
  {
   "cell_type": "code",
   "execution_count": 7,
   "metadata": {},
   "outputs": [
    {
     "data": {
      "text/plain": [
       "False"
      ]
     },
     "execution_count": 7,
     "metadata": {},
     "output_type": "execute_result"
    }
   ],
   "source": [
    "df_aov.isnull().values.any()"
   ]
  },
  {
   "cell_type": "markdown",
   "metadata": {},
   "source": [
    "Checking for duplicate entries, there are none"
   ]
  },
  {
   "cell_type": "code",
   "execution_count": 8,
   "metadata": {},
   "outputs": [
    {
     "data": {
      "text/plain": [
       "False"
      ]
     },
     "execution_count": 8,
     "metadata": {},
     "output_type": "execute_result"
    }
   ],
   "source": [
    "df_aov.duplicated().values.any()"
   ]
  },
  {
   "cell_type": "markdown",
   "metadata": {},
   "source": [
    "----\n",
    "### First Glance Descriptive Statistics\n",
    "The column from the provided dataset that we are interested in to reflect AOV, is `order_amount`. Looking at the statistical metrics of that column from `dataframe.describe()`, there are several things to notice:\n",
    "- I can immediately see that the mean value of **\\\\$3145.13** is very different from the median value of **\\\\$284.00**.\n",
    "    - This indicates that there are high outliers skewing the average of the dataset.\n",
    "- This is corroborated by looking at the max value of `order_amount`, which is an extremely large value compared to the Q3 value.\n",
    "- The max value of `total_items` is also very high.\n",
    "\n",
    "**This one line of code uncovers that the naively calculated value came from taking the mean of a dataset with outliers, where taking the median would be more appropriate.**"
   ]
  },
  {
   "cell_type": "code",
   "execution_count": 9,
   "metadata": {
    "scrolled": true
   },
   "outputs": [
    {
     "data": {
      "text/html": [
       "<div>\n",
       "<style scoped>\n",
       "    .dataframe tbody tr th:only-of-type {\n",
       "        vertical-align: middle;\n",
       "    }\n",
       "\n",
       "    .dataframe tbody tr th {\n",
       "        vertical-align: top;\n",
       "    }\n",
       "\n",
       "    .dataframe thead th {\n",
       "        text-align: right;\n",
       "    }\n",
       "</style>\n",
       "<table border=\"1\" class=\"dataframe\">\n",
       "  <thead>\n",
       "    <tr style=\"text-align: right;\">\n",
       "      <th></th>\n",
       "      <th>order_id</th>\n",
       "      <th>shop_id</th>\n",
       "      <th>user_id</th>\n",
       "      <th>order_amount</th>\n",
       "      <th>total_items</th>\n",
       "      <th>price_per_item</th>\n",
       "    </tr>\n",
       "  </thead>\n",
       "  <tbody>\n",
       "    <tr>\n",
       "      <th>count</th>\n",
       "      <td>5000.00</td>\n",
       "      <td>5000.00</td>\n",
       "      <td>5000.00</td>\n",
       "      <td>5000.00</td>\n",
       "      <td>5000.00</td>\n",
       "      <td>5000.00</td>\n",
       "    </tr>\n",
       "    <tr>\n",
       "      <th>mean</th>\n",
       "      <td>2500.50</td>\n",
       "      <td>50.08</td>\n",
       "      <td>849.09</td>\n",
       "      <td>3145.13</td>\n",
       "      <td>8.79</td>\n",
       "      <td>387.74</td>\n",
       "    </tr>\n",
       "    <tr>\n",
       "      <th>std</th>\n",
       "      <td>1443.52</td>\n",
       "      <td>29.01</td>\n",
       "      <td>87.80</td>\n",
       "      <td>41282.54</td>\n",
       "      <td>116.32</td>\n",
       "      <td>2441.96</td>\n",
       "    </tr>\n",
       "    <tr>\n",
       "      <th>min</th>\n",
       "      <td>1.00</td>\n",
       "      <td>1.00</td>\n",
       "      <td>607.00</td>\n",
       "      <td>90.00</td>\n",
       "      <td>1.00</td>\n",
       "      <td>90.00</td>\n",
       "    </tr>\n",
       "    <tr>\n",
       "      <th>25%</th>\n",
       "      <td>1250.75</td>\n",
       "      <td>24.00</td>\n",
       "      <td>775.00</td>\n",
       "      <td>163.00</td>\n",
       "      <td>1.00</td>\n",
       "      <td>133.00</td>\n",
       "    </tr>\n",
       "    <tr>\n",
       "      <th>50%</th>\n",
       "      <td>2500.50</td>\n",
       "      <td>50.00</td>\n",
       "      <td>849.00</td>\n",
       "      <td>284.00</td>\n",
       "      <td>2.00</td>\n",
       "      <td>153.00</td>\n",
       "    </tr>\n",
       "    <tr>\n",
       "      <th>75%</th>\n",
       "      <td>3750.25</td>\n",
       "      <td>75.00</td>\n",
       "      <td>925.00</td>\n",
       "      <td>390.00</td>\n",
       "      <td>3.00</td>\n",
       "      <td>169.00</td>\n",
       "    </tr>\n",
       "    <tr>\n",
       "      <th>max</th>\n",
       "      <td>5000.00</td>\n",
       "      <td>100.00</td>\n",
       "      <td>999.00</td>\n",
       "      <td>704000.00</td>\n",
       "      <td>2000.00</td>\n",
       "      <td>25725.00</td>\n",
       "    </tr>\n",
       "  </tbody>\n",
       "</table>\n",
       "</div>"
      ],
      "text/plain": [
       "       order_id  shop_id  user_id  order_amount  total_items  price_per_item\n",
       "count   5000.00  5000.00  5000.00       5000.00      5000.00         5000.00\n",
       "mean    2500.50    50.08   849.09       3145.13         8.79          387.74\n",
       "std     1443.52    29.01    87.80      41282.54       116.32         2441.96\n",
       "min        1.00     1.00   607.00         90.00         1.00           90.00\n",
       "25%     1250.75    24.00   775.00        163.00         1.00          133.00\n",
       "50%     2500.50    50.00   849.00        284.00         2.00          153.00\n",
       "75%     3750.25    75.00   925.00        390.00         3.00          169.00\n",
       "max     5000.00   100.00   999.00     704000.00      2000.00        25725.00"
      ]
     },
     "execution_count": 9,
     "metadata": {},
     "output_type": "execute_result"
    }
   ],
   "source": [
    "descr = df_aov.describe()\n",
    "round(descr, 2)"
   ]
  },
  {
   "cell_type": "markdown",
   "metadata": {},
   "source": [
    "One way to find the mean of data with outliers is to find the trimmed mean, which simply trims the distribution from both tails and takes the mean. We will calculate a 5% trimmed mean, which will trim 10% of the data in total. This gives a mean much closer to the median value"
   ]
  },
  {
   "cell_type": "code",
   "execution_count": 10,
   "metadata": {},
   "outputs": [
    {
     "data": {
      "text/plain": [
       "294.39"
      ]
     },
     "execution_count": 10,
     "metadata": {},
     "output_type": "execute_result"
    }
   ],
   "source": [
    "trim = stats.trim_mean(df_aov['order_amount'], proportiontocut=0.05)\n",
    "round(trim, 2)"
   ]
  },
  {
   "cell_type": "markdown",
   "metadata": {},
   "source": [
    "Knowing there are outliers, let's look at a box-and-whiskers plot to examine some of these. I am looking at the data on two different y-scales. The linear scale makes it obvious there is a point or group of points much much larger than the rest of the data. But the log scale gives a better look at the other parts of the data since the high outlier values is so much larger than most of the other values):"
   ]
  },
  {
   "cell_type": "code",
   "execution_count": 11,
   "metadata": {},
   "outputs": [
    {
     "data": {
      "image/png": "[encoded data removed]",
      "text/plain": [
       "<Figure size 720x432 with 2 Axes>"
      ]
     },
     "metadata": {
      "needs_background": "light"
     },
     "output_type": "display_data"
    }
   ],
   "source": [
    "bxplt = plt.figure(figsize=(10,6))\n",
    "\n",
    "bxplt.subplots_adjust(wspace=0.6)\n",
    "\n",
    "ax1, ax2 = bxplt.add_subplot(1,2,1), bxplt.add_subplot(1,2,2)\n",
    "\n",
    "ax1.boxplot(df_aov['order_amount'])\n",
    "ax2.boxplot(df_aov['order_amount'])\n",
    "\n",
    "ax2.set_yscale('log')\n",
    "\n",
    "ax1.title.set_text('Linear Scale')\n",
    "ax2.title.set_text('Log Scale')\n",
    "\n",
    "ax1.set_ylabel(df_aov['order_amount'].name + ' ($)', fontsize=14)\n",
    "ax2.set_ylabel(df_aov['order_amount'].name + ' ($)', fontsize=14)\n",
    "\n",
    "plt.show()"
   ]
  },
  {
   "cell_type": "markdown",
   "metadata": {},
   "source": [
    "### Outlier Exploration\n",
    "I noticed that there is a group of outlier `order_amount` values > \\\\$10,000, so I decided to examine this subset of the data to make sure these data values reflect real inputs, and there aren't errors in the data set."
   ]
  },
  {
   "cell_type": "code",
   "execution_count": 12,
   "metadata": {},
   "outputs": [
    {
     "name": "stdout",
     "output_type": "stream",
     "text": [
      "values in outlier dataframe: 63\n"
     ]
    },
    {
     "data": {
      "text/html": [
       "<div>\n",
       "<style scoped>\n",
       "    .dataframe tbody tr th:only-of-type {\n",
       "        vertical-align: middle;\n",
       "    }\n",
       "\n",
       "    .dataframe tbody tr th {\n",
       "        vertical-align: top;\n",
       "    }\n",
       "\n",
       "    .dataframe thead th {\n",
       "        text-align: right;\n",
       "    }\n",
       "</style>\n",
       "<table border=\"1\" class=\"dataframe\">\n",
       "  <thead>\n",
       "    <tr style=\"text-align: right;\">\n",
       "      <th></th>\n",
       "      <th>order_id</th>\n",
       "      <th>shop_id</th>\n",
       "      <th>user_id</th>\n",
       "      <th>order_amount</th>\n",
       "      <th>total_items</th>\n",
       "      <th>price_per_item</th>\n",
       "      <th>payment_method</th>\n",
       "      <th>created_at</th>\n",
       "    </tr>\n",
       "  </thead>\n",
       "  <tbody>\n",
       "    <tr>\n",
       "      <th>15</th>\n",
       "      <td>16</td>\n",
       "      <td>42</td>\n",
       "      <td>607</td>\n",
       "      <td>704000</td>\n",
       "      <td>2000</td>\n",
       "      <td>352.0</td>\n",
       "      <td>credit_card</td>\n",
       "      <td>2017-03-07 04:00:00</td>\n",
       "    </tr>\n",
       "    <tr>\n",
       "      <th>60</th>\n",
       "      <td>61</td>\n",
       "      <td>42</td>\n",
       "      <td>607</td>\n",
       "      <td>704000</td>\n",
       "      <td>2000</td>\n",
       "      <td>352.0</td>\n",
       "      <td>credit_card</td>\n",
       "      <td>2017-03-04 04:00:00</td>\n",
       "    </tr>\n",
       "    <tr>\n",
       "      <th>160</th>\n",
       "      <td>161</td>\n",
       "      <td>78</td>\n",
       "      <td>990</td>\n",
       "      <td>25725</td>\n",
       "      <td>1</td>\n",
       "      <td>25725.0</td>\n",
       "      <td>credit_card</td>\n",
       "      <td>2017-03-12 05:56:57</td>\n",
       "    </tr>\n",
       "    <tr>\n",
       "      <th>490</th>\n",
       "      <td>491</td>\n",
       "      <td>78</td>\n",
       "      <td>936</td>\n",
       "      <td>51450</td>\n",
       "      <td>2</td>\n",
       "      <td>25725.0</td>\n",
       "      <td>debit</td>\n",
       "      <td>2017-03-26 17:08:19</td>\n",
       "    </tr>\n",
       "    <tr>\n",
       "      <th>493</th>\n",
       "      <td>494</td>\n",
       "      <td>78</td>\n",
       "      <td>983</td>\n",
       "      <td>51450</td>\n",
       "      <td>2</td>\n",
       "      <td>25725.0</td>\n",
       "      <td>cash</td>\n",
       "      <td>2017-03-16 21:39:35</td>\n",
       "    </tr>\n",
       "  </tbody>\n",
       "</table>\n",
       "</div>"
      ],
      "text/plain": [
       "     order_id  shop_id  user_id  order_amount  total_items  price_per_item  \\\n",
       "15         16       42      607        704000         2000           352.0   \n",
       "60         61       42      607        704000         2000           352.0   \n",
       "160       161       78      990         25725            1         25725.0   \n",
       "490       491       78      936         51450            2         25725.0   \n",
       "493       494       78      983         51450            2         25725.0   \n",
       "\n",
       "    payment_method          created_at  \n",
       "15     credit_card 2017-03-07 04:00:00  \n",
       "60     credit_card 2017-03-04 04:00:00  \n",
       "160    credit_card 2017-03-12 05:56:57  \n",
       "490          debit 2017-03-26 17:08:19  \n",
       "493           cash 2017-03-16 21:39:35  "
      ]
     },
     "execution_count": 12,
     "metadata": {},
     "output_type": "execute_result"
    }
   ],
   "source": [
    "# make a dataframe of just order values >$10,000\n",
    "df_outliers = df_aov[df_aov['order_amount']>=1e4]\n",
    "print('values in outlier dataframe:',len(df_outliers))\n",
    "df_outliers.head()"
   ]
  },
  {
   "cell_type": "markdown",
   "metadata": {},
   "source": [
    "All these outlier values come from two shops: 42 and 78. These values are not one-off outliers, but consistent within the shops. \n",
    "\n",
    "For example, from Shop 42 there are 17 orders (check `order_count`) for 2000 items totaling \\\\$704000 each. But, we can also see that the price per item is a high, but reasonable value of \\\\$352.\n",
    "\n",
    "In Shop 78, the shoes seem to have a very high individual price of ~\\\\$25000. So either, this is an error in the price, or the shop sells some very boughie shoes. \n",
    "\n",
    "\n",
    "In total these outlier values make up >1% of the total orders."
   ]
  },
  {
   "cell_type": "code",
   "execution_count": 13,
   "metadata": {
    "scrolled": true
   },
   "outputs": [
    {
     "data": {
      "text/html": [
       "<div>\n",
       "<style scoped>\n",
       "    .dataframe tbody tr th:only-of-type {\n",
       "        vertical-align: middle;\n",
       "    }\n",
       "\n",
       "    .dataframe tbody tr th {\n",
       "        vertical-align: top;\n",
       "    }\n",
       "\n",
       "    .dataframe thead th {\n",
       "        text-align: right;\n",
       "    }\n",
       "</style>\n",
       "<table border=\"1\" class=\"dataframe\">\n",
       "  <thead>\n",
       "    <tr style=\"text-align: right;\">\n",
       "      <th></th>\n",
       "      <th></th>\n",
       "      <th>order_id</th>\n",
       "      <th>user_id</th>\n",
       "      <th>total_items</th>\n",
       "      <th>price_per_item</th>\n",
       "      <th>payment_method</th>\n",
       "      <th>created_at</th>\n",
       "      <th>order_count</th>\n",
       "    </tr>\n",
       "    <tr>\n",
       "      <th>shop_id</th>\n",
       "      <th>order_amount</th>\n",
       "      <th></th>\n",
       "      <th></th>\n",
       "      <th></th>\n",
       "      <th></th>\n",
       "      <th></th>\n",
       "      <th></th>\n",
       "      <th></th>\n",
       "    </tr>\n",
       "  </thead>\n",
       "  <tbody>\n",
       "    <tr>\n",
       "      <th>42</th>\n",
       "      <th>704000</th>\n",
       "      <td>16</td>\n",
       "      <td>607</td>\n",
       "      <td>2000</td>\n",
       "      <td>352.0</td>\n",
       "      <td>credit_card</td>\n",
       "      <td>2017-03-07 04:00:00</td>\n",
       "      <td>17</td>\n",
       "    </tr>\n",
       "    <tr>\n",
       "      <th rowspan=\"5\" valign=\"top\">78</th>\n",
       "      <th>25725</th>\n",
       "      <td>161</td>\n",
       "      <td>990</td>\n",
       "      <td>1</td>\n",
       "      <td>25725.0</td>\n",
       "      <td>credit_card</td>\n",
       "      <td>2017-03-12 05:56:57</td>\n",
       "      <td>19</td>\n",
       "    </tr>\n",
       "    <tr>\n",
       "      <th>51450</th>\n",
       "      <td>491</td>\n",
       "      <td>936</td>\n",
       "      <td>2</td>\n",
       "      <td>25725.0</td>\n",
       "      <td>debit</td>\n",
       "      <td>2017-03-26 17:08:19</td>\n",
       "      <td>16</td>\n",
       "    </tr>\n",
       "    <tr>\n",
       "      <th>77175</th>\n",
       "      <td>1260</td>\n",
       "      <td>775</td>\n",
       "      <td>3</td>\n",
       "      <td>25725.0</td>\n",
       "      <td>credit_card</td>\n",
       "      <td>2017-03-27 09:27:20</td>\n",
       "      <td>9</td>\n",
       "    </tr>\n",
       "    <tr>\n",
       "      <th>102900</th>\n",
       "      <td>2493</td>\n",
       "      <td>834</td>\n",
       "      <td>4</td>\n",
       "      <td>25725.0</td>\n",
       "      <td>debit</td>\n",
       "      <td>2017-03-04 04:37:34</td>\n",
       "      <td>1</td>\n",
       "    </tr>\n",
       "    <tr>\n",
       "      <th>154350</th>\n",
       "      <td>692</td>\n",
       "      <td>878</td>\n",
       "      <td>6</td>\n",
       "      <td>25725.0</td>\n",
       "      <td>debit</td>\n",
       "      <td>2017-03-27 22:51:43</td>\n",
       "      <td>1</td>\n",
       "    </tr>\n",
       "  </tbody>\n",
       "</table>\n",
       "</div>"
      ],
      "text/plain": [
       "                      order_id  user_id  total_items  price_per_item  \\\n",
       "shop_id order_amount                                                   \n",
       "42      704000              16      607         2000           352.0   \n",
       "78      25725              161      990            1         25725.0   \n",
       "        51450              491      936            2         25725.0   \n",
       "        77175             1260      775            3         25725.0   \n",
       "        102900            2493      834            4         25725.0   \n",
       "        154350             692      878            6         25725.0   \n",
       "\n",
       "                     payment_method          created_at  order_count  \n",
       "shop_id order_amount                                                  \n",
       "42      704000          credit_card 2017-03-07 04:00:00           17  \n",
       "78      25725           credit_card 2017-03-12 05:56:57           19  \n",
       "        51450                 debit 2017-03-26 17:08:19           16  \n",
       "        77175           credit_card 2017-03-27 09:27:20            9  \n",
       "        102900                debit 2017-03-04 04:37:34            1  \n",
       "        154350                debit 2017-03-27 22:51:43            1  "
      ]
     },
     "execution_count": 13,
     "metadata": {},
     "output_type": "execute_result"
    }
   ],
   "source": [
    "dfo_group = df_outliers.groupby(['shop_id', 'order_amount'])\n",
    "\n",
    "# add a column of the number of orders made at each order_value to understand uniqueness of outlier points\n",
    "pd.concat([dfo_group.first(), dfo_group.count()['order_id'].rename('order_count')], axis=1)"
   ]
  },
  {
   "cell_type": "markdown",
   "metadata": {},
   "source": [
    "I want to explore the rest of Shop 42's orders to see if they only consist of outlier value orders. What I find is that the high value orders make up ~1/3 of Shop 42's total orders, only a portion of the shop's total orders."
   ]
  },
  {
   "cell_type": "code",
   "execution_count": 14,
   "metadata": {},
   "outputs": [
    {
     "data": {
      "text/html": [
       "<div>\n",
       "<style scoped>\n",
       "    .dataframe tbody tr th:only-of-type {\n",
       "        vertical-align: middle;\n",
       "    }\n",
       "\n",
       "    .dataframe tbody tr th {\n",
       "        vertical-align: top;\n",
       "    }\n",
       "\n",
       "    .dataframe thead th {\n",
       "        text-align: right;\n",
       "    }\n",
       "</style>\n",
       "<table border=\"1\" class=\"dataframe\">\n",
       "  <thead>\n",
       "    <tr style=\"text-align: right;\">\n",
       "      <th></th>\n",
       "      <th>shop_id</th>\n",
       "      <th>total_items</th>\n",
       "      <th>price_per_item</th>\n",
       "      <th>order_count</th>\n",
       "    </tr>\n",
       "    <tr>\n",
       "      <th>order_amount</th>\n",
       "      <th></th>\n",
       "      <th></th>\n",
       "      <th></th>\n",
       "      <th></th>\n",
       "    </tr>\n",
       "  </thead>\n",
       "  <tbody>\n",
       "    <tr>\n",
       "      <th>352</th>\n",
       "      <td>42</td>\n",
       "      <td>1</td>\n",
       "      <td>352.0</td>\n",
       "      <td>15</td>\n",
       "    </tr>\n",
       "    <tr>\n",
       "      <th>704</th>\n",
       "      <td>42</td>\n",
       "      <td>2</td>\n",
       "      <td>352.0</td>\n",
       "      <td>13</td>\n",
       "    </tr>\n",
       "    <tr>\n",
       "      <th>1056</th>\n",
       "      <td>42</td>\n",
       "      <td>3</td>\n",
       "      <td>352.0</td>\n",
       "      <td>3</td>\n",
       "    </tr>\n",
       "    <tr>\n",
       "      <th>1408</th>\n",
       "      <td>42</td>\n",
       "      <td>4</td>\n",
       "      <td>352.0</td>\n",
       "      <td>2</td>\n",
       "    </tr>\n",
       "    <tr>\n",
       "      <th>1760</th>\n",
       "      <td>42</td>\n",
       "      <td>5</td>\n",
       "      <td>352.0</td>\n",
       "      <td>1</td>\n",
       "    </tr>\n",
       "    <tr>\n",
       "      <th>704000</th>\n",
       "      <td>42</td>\n",
       "      <td>2000</td>\n",
       "      <td>352.0</td>\n",
       "      <td>17</td>\n",
       "    </tr>\n",
       "  </tbody>\n",
       "</table>\n",
       "</div>"
      ],
      "text/plain": [
       "              shop_id  total_items  price_per_item  order_count\n",
       "order_amount                                                   \n",
       "352                42            1           352.0           15\n",
       "704                42            2           352.0           13\n",
       "1056               42            3           352.0            3\n",
       "1408               42            4           352.0            2\n",
       "1760               42            5           352.0            1\n",
       "704000             42         2000           352.0           17"
      ]
     },
     "execution_count": 14,
     "metadata": {},
     "output_type": "execute_result"
    }
   ],
   "source": [
    "# make a dataframe of just Shop 42's orders\n",
    "shop42 = df_aov[df_aov['shop_id'] == 42]\n",
    "shop42_descr = shop42.groupby('order_amount')\n",
    "\n",
    "# again add a column of the number of orders to see frequency of outliers in data\n",
    "pd.concat([shop42_descr.agg(np.unique), shop42_descr.count()['order_id'].rename('order_count')], axis=1)"
   ]
  },
  {
   "cell_type": "markdown",
   "metadata": {},
   "source": [
    "I also wanted to look at how Shop 78's very expensive model compares against other shops, and unsuprisingly, we find that shop 78 is by far the most expensive shoe (by two orders of magnitude)."
   ]
  },
  {
   "cell_type": "code",
   "execution_count": 15,
   "metadata": {},
   "outputs": [
    {
     "data": {
      "text/plain": [
       "shop_id\n",
       "78    25725.0\n",
       "42      352.0\n",
       "12      201.0\n",
       "89      196.0\n",
       "99      195.0\n",
       "50      193.0\n",
       "38      190.0\n",
       "6       187.0\n",
       "51      187.0\n",
       "11      184.0\n",
       "Name: price_per_item, dtype: float64"
      ]
     },
     "execution_count": 15,
     "metadata": {},
     "output_type": "execute_result"
    }
   ],
   "source": [
    "pricehigh = df_aov.groupby('shop_id')['price_per_item'].agg(np.unique)\n",
    "pricehigh.sort_values(ascending=False).head(10)"
   ]
  },
  {
   "cell_type": "markdown",
   "metadata": {},
   "source": [
    "#### Trimmed mean for data with outliers\n",
    "One way to find the mean of data with outliers is to find the trimmed mean, which simply trims the distribution from both tails and takes the mean. We will calculate a 5% trimmed mean, which will trim 10% of the data in total. This gives a mean much closer to the median value"
   ]
  },
  {
   "cell_type": "code",
   "execution_count": 16,
   "metadata": {},
   "outputs": [
    {
     "data": {
      "text/plain": [
       "294.39"
      ]
     },
     "execution_count": 16,
     "metadata": {},
     "output_type": "execute_result"
    }
   ],
   "source": [
    "trim = stats.trim_mean(df_aov['order_amount'], proportiontocut=0.05)\n",
    "round(trim, 2)"
   ]
  },
  {
   "cell_type": "markdown",
   "metadata": {},
   "source": [
    "#### Modified data set to reduce outliers"
   ]
  },
  {
   "cell_type": "markdown",
   "metadata": {},
   "source": [
    "When I saw how much Shop 78's shoe model cost, I thought this could be a mistake where the price was inputted x100 larger than it was supposed to be (if the person logging it forgot the decimal for the cents). So I wanted to explore a data set where this value was modified, and the larger orders from Shop 42 were removed.\n",
    "\n",
    "My first step in creating a modified data set was to correct this column and divide `order_amount` by \\\\$100 (as well as `price_per_item`). "
   ]
  },
  {
   "cell_type": "code",
   "execution_count": 17,
   "metadata": {},
   "outputs": [],
   "source": [
    "mod_dfaov = df_aov.copy()\n",
    "for column in ['order_amount', 'price_per_item']:\n",
    "    mod_dfaov.loc[mod_dfaov['shop_id'] == 78, column] = mod_dfaov[column]/100"
   ]
  },
  {
   "cell_type": "markdown",
   "metadata": {},
   "source": [
    "The next step was to outright remove the extremely high order values from Shop 42 that are thousands of times larger than the median order value."
   ]
  },
  {
   "cell_type": "code",
   "execution_count": 18,
   "metadata": {},
   "outputs": [],
   "source": [
    "mod_dfaov = mod_dfaov[mod_dfaov['order_amount'] != 704000]"
   ]
  },
  {
   "cell_type": "markdown",
   "metadata": {},
   "source": [
    "We can now see that the mean of this modified data set at **\\\\$304.33** is much closer to the median, indicating this data is not nearly as affected by the outliers."
   ]
  },
  {
   "cell_type": "code",
   "execution_count": 19,
   "metadata": {
    "scrolled": true
   },
   "outputs": [
    {
     "data": {
      "text/html": [
       "<div>\n",
       "<style scoped>\n",
       "    .dataframe tbody tr th:only-of-type {\n",
       "        vertical-align: middle;\n",
       "    }\n",
       "\n",
       "    .dataframe tbody tr th {\n",
       "        vertical-align: top;\n",
       "    }\n",
       "\n",
       "    .dataframe thead th {\n",
       "        text-align: right;\n",
       "    }\n",
       "</style>\n",
       "<table border=\"1\" class=\"dataframe\">\n",
       "  <thead>\n",
       "    <tr style=\"text-align: right;\">\n",
       "      <th></th>\n",
       "      <th>order_id</th>\n",
       "      <th>shop_id</th>\n",
       "      <th>user_id</th>\n",
       "      <th>order_amount</th>\n",
       "      <th>total_items</th>\n",
       "      <th>price_per_item</th>\n",
       "    </tr>\n",
       "  </thead>\n",
       "  <tbody>\n",
       "    <tr>\n",
       "      <th>count</th>\n",
       "      <td>4983.00</td>\n",
       "      <td>4983.00</td>\n",
       "      <td>4983.00</td>\n",
       "      <td>4983.00</td>\n",
       "      <td>4983.00</td>\n",
       "      <td>4983.00</td>\n",
       "    </tr>\n",
       "    <tr>\n",
       "      <th>mean</th>\n",
       "      <td>2501.06</td>\n",
       "      <td>50.11</td>\n",
       "      <td>849.92</td>\n",
       "      <td>304.33</td>\n",
       "      <td>1.99</td>\n",
       "      <td>152.76</td>\n",
       "    </tr>\n",
       "    <tr>\n",
       "      <th>std</th>\n",
       "      <td>1443.09</td>\n",
       "      <td>29.05</td>\n",
       "      <td>86.80</td>\n",
       "      <td>163.04</td>\n",
       "      <td>0.98</td>\n",
       "      <td>30.61</td>\n",
       "    </tr>\n",
       "    <tr>\n",
       "      <th>min</th>\n",
       "      <td>1.00</td>\n",
       "      <td>1.00</td>\n",
       "      <td>700.00</td>\n",
       "      <td>90.00</td>\n",
       "      <td>1.00</td>\n",
       "      <td>90.00</td>\n",
       "    </tr>\n",
       "    <tr>\n",
       "      <th>25%</th>\n",
       "      <td>1250.50</td>\n",
       "      <td>24.00</td>\n",
       "      <td>776.00</td>\n",
       "      <td>163.00</td>\n",
       "      <td>1.00</td>\n",
       "      <td>133.00</td>\n",
       "    </tr>\n",
       "    <tr>\n",
       "      <th>50%</th>\n",
       "      <td>2502.00</td>\n",
       "      <td>50.00</td>\n",
       "      <td>850.00</td>\n",
       "      <td>284.00</td>\n",
       "      <td>2.00</td>\n",
       "      <td>153.00</td>\n",
       "    </tr>\n",
       "    <tr>\n",
       "      <th>75%</th>\n",
       "      <td>3750.50</td>\n",
       "      <td>75.00</td>\n",
       "      <td>925.00</td>\n",
       "      <td>390.00</td>\n",
       "      <td>3.00</td>\n",
       "      <td>168.00</td>\n",
       "    </tr>\n",
       "    <tr>\n",
       "      <th>max</th>\n",
       "      <td>5000.00</td>\n",
       "      <td>100.00</td>\n",
       "      <td>999.00</td>\n",
       "      <td>1760.00</td>\n",
       "      <td>8.00</td>\n",
       "      <td>352.00</td>\n",
       "    </tr>\n",
       "  </tbody>\n",
       "</table>\n",
       "</div>"
      ],
      "text/plain": [
       "       order_id  shop_id  user_id  order_amount  total_items  price_per_item\n",
       "count   4983.00  4983.00  4983.00       4983.00      4983.00         4983.00\n",
       "mean    2501.06    50.11   849.92        304.33         1.99          152.76\n",
       "std     1443.09    29.05    86.80        163.04         0.98           30.61\n",
       "min        1.00     1.00   700.00         90.00         1.00           90.00\n",
       "25%     1250.50    24.00   776.00        163.00         1.00          133.00\n",
       "50%     2502.00    50.00   850.00        284.00         2.00          153.00\n",
       "75%     3750.50    75.00   925.00        390.00         3.00          168.00\n",
       "max     5000.00   100.00   999.00       1760.00         8.00          352.00"
      ]
     },
     "execution_count": 19,
     "metadata": {},
     "output_type": "execute_result"
    }
   ],
   "source": [
    "mod_descr = mod_dfaov.describe()\n",
    "round(mod_descr, 2)"
   ]
  },
  {
   "cell_type": "markdown",
   "metadata": {},
   "source": [
    "## Problem Solution\n",
    "The **\\\\$3145.13** value for AOV came from simply taking the average (mean) of the `order_count`, and from some analysis it has become clear that the dataset contains some high outlier values and is not normally distributed. In a dataset with outliers, the mean can be misleading. I see several ways to approach this problem: "
   ]
  },
  {
   "cell_type": "markdown",
   "metadata": {},
   "source": [
    "1. Take the median of the dataset, which is relatively unaffected by extreme data points. This requires us to make no assumptions and no changes to the data, which can sometimes be the best approach.\n",
    "\n",
    "    In this case, the \"average\" order value would be **\\\\$284.00**."
   ]
  },
  {
   "cell_type": "markdown",
   "metadata": {},
   "source": [
    "2. Take the trimmed mean of the dataset. If taking the median is one extreme of trimming the data (only looking at the center value), then this can be interpreted as a comporomise between the mean and the median. We used a 5% trimmed mean.\n",
    "\n",
    "    In this case, the \"average\" order value would be **\\\\$294.39**."
   ]
  },
  {
   "cell_type": "markdown",
   "metadata": {},
   "source": [
    "3. **Read below for note, this method has caveats.** Another way to go about it is to modify the data set. Above, I altered the values of Shop 78, assuming the values were imputted incorrectly and are x100 larger than they are supposed to be. Likewise, we could remove the very large orders from Shop 42, assuming these are outliers in the set and are confusing the average. We will use the mean of this new modified data set which is much closer to the median, a sign that the new data set is more normally distributed. \n",
    "\n",
    "    In this case, the \"average\" order value would be **\\\\$304.33**\n",
    "\n",
    "    **NOTE:** Removing or modifying the outlier values here is not advised without more information. The very high value order from Shop 42 appeared 17 times over a 30 day period, and is most likely not a mistake. Likewise, the price per shoe for Shop 78 was extremely high, but the value was inputted repeatedly. Without the ability to prove that this value was some type of error, it is best to choose a statistic like median or trimmed mean that can guard against outliers without drastically modifying the data and potentially giving an unrealistic picture."
   ]
  },
  {
   "cell_type": "markdown",
   "metadata": {},
   "source": [
    "------\n",
    "----\n",
    "----\n",
    "# Question 2: \n",
    "\n",
    "For this question you’ll need to use SQL. Follow this link to access the data set required for the challenge. Please use queries to answer the following questions. Paste your queries along with your final numerical answers below."
   ]
  },
  {
   "cell_type": "markdown",
   "metadata": {},
   "source": [
    "### How many orders were shipped by Speedy Express in total?\n",
    "\n",
    "~~~~mysql\n",
    "SELECT COUNT(O.OrderID) AS NumOrders   \n",
    "FROM Orders AS O JOIN Shippers AS S  \n",
    "ON O.ShipperID=S.ShipperID  \n",
    "WHERE S.ShipperName='Speedy Express'; \n",
    "~~~~\n",
    "**value: 54**"
   ]
  },
  {
   "cell_type": "markdown",
   "metadata": {},
   "source": [
    "### What is the last name of the employee with the most orders?\n",
    "\n",
    "~~~~mysql\n",
    "SELECT E.LastName, COUNT(O.EmployeeID) AS NumOrders  \n",
    "FROM Employees AS E JOIN Orders AS O  \n",
    "ON E.EmployeeID=O.EmployeeID  \n",
    "GROUP BY E.LastName  \n",
    "ORDER BY NumOrders DESC  \n",
    "LIMIT 1;\n",
    "~~~~\n",
    "\n",
    "**value: Peacock, 40**"
   ]
  },
  {
   "cell_type": "markdown",
   "metadata": {},
   "source": [
    "### What product was ordered the most by customers in Germany?\n",
    "(I am interpreting this question to mean orders placed of a product, not total quantity of a product)\n",
    "\n",
    "~~~~mysql\n",
    "SELECT P.ProductName, COUNT(OD.ProductID) AS NumOrders  \n",
    "FROM Products AS P JOIN OrderDetails AS OD  \n",
    "ON P.ProductID=OD.ProductID  \n",
    "JOIN Orders AS O ON O.OrderID=OD.OrderID  \n",
    "JOIN Customers AS C ON C.CustomerID=O.CustomerID  \n",
    "WHERE C.Country = 'Germany'  \n",
    "GROUP BY P.ProductName  \n",
    "ORDER BY NumOrders DESC  \n",
    "LIMIT 1;  \n",
    "~~~~\n",
    "\n",
    "**value: Gorgonzola Telino, 5**"
   ]
  }
 ],
 "metadata": {
  "kernelspec": {
   "display_name": "Python 3",
   "language": "python",
   "name": "python3"
  },
  "language_info": {
   "codemirror_mode": {
    "name": "ipython",
    "version": 3
   },
   "file_extension": ".py",
   "mimetype": "text/x-python",
   "name": "python",
   "nbconvert_exporter": "python",
   "pygments_lexer": "ipython3",
   "version": "3.7.7"
  }
 },
 "nbformat": 4,
 "nbformat_minor": 4
}
